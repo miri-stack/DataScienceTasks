{
  "nbformat": 4,
  "nbformat_minor": 0,
  "metadata": {
    "kernelspec": {
      "display_name": "Python 3",
      "language": "python",
      "name": "python3"
    },
    "language_info": {
      "codemirror_mode": {
        "name": "ipython",
        "version": 3
      },
      "file_extension": ".py",
      "mimetype": "text/x-python",
      "name": "python",
      "nbconvert_exporter": "python",
      "pygments_lexer": "ipython3",
      "version": "3.7.4"
    },
    "colab": {
      "name": "PythonUebung1.ipynb",
      "provenance": [],
      "include_colab_link": true
    }
  },
  "cells": [
    {
      "cell_type": "markdown",
      "metadata": {
        "id": "view-in-github",
        "colab_type": "text"
      },
      "source": [
        "<a href=\"https://colab.research.google.com/github/miri-stack/DataScienceTasks/blob/main/PythonUebung1.ipynb\" target=\"_parent\"><img src=\"https://colab.research.google.com/assets/colab-badge.svg\" alt=\"Open In Colab\"/></a>"
      ]
    },
    {
      "cell_type": "markdown",
      "metadata": {
        "id": "7_EWrNsV-TZl"
      },
      "source": [
        "# Python Übung 1 - Daten untersuchen"
      ]
    },
    {
      "cell_type": "code",
      "metadata": {
        "id": "hrG3Jfqf-TZ3"
      },
      "source": [
        "data1 = [[10, 8.04], [8, 6.95], [13, 7.58], [9, 8.81], [11, 8.33], [14, 9.96], [6, 7.24], [4,  4.26], [12, 10.84], [7, 4.82], [5, 5.68]]\n",
        "data2 = [[10, 9.14], [8, 8.14], [13, 8.74], [9, 8.77], [11, 9.26], [14, 8.1],  [6, 6.13], [4,  3.1],  [12,  9.13], [7, 7.26], [5, 4.74]]\n",
        "data3 = [[10, 7.46], [8, 6.77], [13,12.74], [9, 7.11], [11, 7.81], [14, 8.84], [6, 6.08], [4,  5.39], [12,  8.15], [7, 6.42], [5,5.73]]\n",
        "data4 = [[ 8, 6.58], [8, 5.76], [ 8, 7.71], [8, 8.84], [ 8, 8.47], [ 8, 7.04], [8, 5.25], [19,12.5],  [ 8,  5.56], [8, 7.91], [8, 6.89]]\n"
      ],
      "execution_count": null,
      "outputs": []
    },
    {
      "cell_type": "markdown",
      "metadata": {
        "id": "KIkfZqMZ-TZ8"
      },
      "source": [
        "1: Benutzen Sie eine Python-Funktion, um die Anzahl der Dimensionen p zu berechnen für alle 4 Datenreihen. \n",
        "Hinweis: Importieren Sie pandas und erstellen Sie 4 DataFrames für die Daten, benennen Sie die Spalten X und Y."
      ]
    },
    {
      "cell_type": "code",
      "metadata": {
        "colab": {
          "base_uri": "https://localhost:8080/"
        },
        "id": "8XEPU5Xc-TZ9",
        "outputId": "aae31abe-101e-415a-eed3-efece1087eca"
      },
      "source": [
        "import pandas as pd\n",
        "df_one = pd.DataFrame(data1, columns=['x','y'])\n",
        "df_two = pd.DataFrame(data2, columns=['x','y'])\n",
        "df_three = pd.DataFrame(data3, columns=['x','y'])\n",
        "df_four = pd.DataFrame(data4, columns=['x','y'])\n",
        "_, col1 = df_one.shape\n",
        "_, col2 = df_two.shape\n",
        "_, col3 = df_three.shape\n",
        "_, col4 = df_four.shape\n",
        "col1\n"
      ],
      "execution_count": null,
      "outputs": [
        {
          "output_type": "execute_result",
          "data": {
            "text/plain": [
              "2"
            ]
          },
          "metadata": {},
          "execution_count": 13
        }
      ]
    },
    {
      "cell_type": "markdown",
      "metadata": {
        "id": "sHwWf4pd-TZ-"
      },
      "source": [
        "2: Geben Sie die Anzahl der Datenpunkte, den Durchschnitt, Min, Max, und die Perzentilen aus. Vergleichen Sie die Werte über alle Datensätze."
      ]
    },
    {
      "cell_type": "code",
      "metadata": {
        "colab": {
          "base_uri": "https://localhost:8080/"
        },
        "id": "ZI-y4m9R-TaA",
        "outputId": "1cf0f729-8f92-4389-8e8d-cd9285f27e61"
      },
      "source": [
        "df_one.min()"
      ],
      "execution_count": null,
      "outputs": [
        {
          "output_type": "execute_result",
          "data": {
            "text/plain": [
              "x    4.00\n",
              "y    4.26\n",
              "dtype: float64"
            ]
          },
          "metadata": {},
          "execution_count": 15
        }
      ]
    },
    {
      "cell_type": "markdown",
      "metadata": {
        "id": "mi2PXrp--TaC"
      },
      "source": [
        "3: Berechnen Sie die Korrelation zwischen X und Y für alle 4 Datensätze. Was können Sie daraus schließen? Berechnen Sie zudem auch die Korrletion ^2. "
      ]
    },
    {
      "cell_type": "code",
      "metadata": {
        "id": "phSkVLo5-TaF"
      },
      "source": [
        "#ToDo"
      ],
      "execution_count": null,
      "outputs": []
    },
    {
      "cell_type": "markdown",
      "metadata": {
        "id": "JrUz59zl-TaH"
      },
      "source": [
        "4: Erstellen Sie Scatterplots für alle vier Datensätze. Hint: Nutzen Sie Seaborn oder Matplotlib. "
      ]
    },
    {
      "cell_type": "code",
      "metadata": {
        "id": "Ld5ZDIEP-TaI"
      },
      "source": [
        "import seaborn as sns\n",
        "#ToDo"
      ],
      "execution_count": null,
      "outputs": []
    },
    {
      "cell_type": "markdown",
      "metadata": {
        "id": "kVNu0_1u-TaK"
      },
      "source": [
        "5: Führen Sie eine lineare Regression durch. Der unten gegebene Code importiert bereits numpy und das Modell als auch den Plot. Das reshaping für die Lineare Regression ist auch schon erledigt. "
      ]
    },
    {
      "cell_type": "code",
      "metadata": {
        "id": "tGQJD-Bb-TaL"
      },
      "source": [
        "import numpy as np\n",
        "import matplotlib.pyplot as plt  \n",
        "from sklearn.linear_model import LinearRegression\n",
        "\n",
        "# hier einkommentieren\n",
        "#X = df.iloc[:, 0].values.reshape(-1, 1)  # numpy! \n",
        "#Y = df.iloc[:, 1].values.reshape(-1, 1)  \n"
      ],
      "execution_count": null,
      "outputs": []
    },
    {
      "cell_type": "markdown",
      "metadata": {
        "id": "HDLmrGx1-TaM"
      },
      "source": [
        "5: contd. Danach müssen Sie das Objekt LinearRegression instanziieren und \"fitten\". Sie können die Regression mit score bewerten. Geben Sie die Koeffizienten aus (coef_) und die Schnittstelle (intercept_). Vergleichen Sie den score (R^2-Wert) mit dem oben berechneten Korrelation ^ 2 Wert. "
      ]
    },
    {
      "cell_type": "code",
      "metadata": {
        "id": "s6HO9gUG-TaN"
      },
      "source": [
        "#ToDo"
      ],
      "execution_count": null,
      "outputs": []
    },
    {
      "cell_type": "markdown",
      "metadata": {
        "id": "bTPYS27W-TaO"
      },
      "source": [
        "6: Sagen die die Werte für Y_pred mit predict voraus. Nutzen Sie einen Scatterplot, um X, Y und die Regressionslinie einzuzeichnen. Das geht z. B. mit Matplotlib oder Seaborn. "
      ]
    },
    {
      "cell_type": "code",
      "metadata": {
        "id": "_0OWpAPJ-TaP"
      },
      "source": [
        "#ToDo"
      ],
      "execution_count": null,
      "outputs": []
    },
    {
      "cell_type": "markdown",
      "metadata": {
        "id": "Yd1DVIPA-TaQ"
      },
      "source": [
        "7: Löschen Sie den \"Ausreißer\" aus Datensatz 3. Wiederholen Sie die Schritte 5 und 6. Was fällt auf? "
      ]
    },
    {
      "cell_type": "code",
      "metadata": {
        "id": "AbaKfujR-TaR"
      },
      "source": [
        "#ToDo"
      ],
      "execution_count": null,
      "outputs": []
    },
    {
      "cell_type": "markdown",
      "metadata": {
        "id": "2yAAhTSY-TaS"
      },
      "source": [
        "8: Denken Sie kurz darüber nach, was Sie aus dieser gesamten Übung mitnehmen können. Helfen Sie Mitstudierenden."
      ]
    },
    {
      "cell_type": "code",
      "metadata": {
        "id": "aV6fSAlC-TaS"
      },
      "source": [
        "#ToDo"
      ],
      "execution_count": null,
      "outputs": []
    },
    {
      "cell_type": "markdown",
      "metadata": {
        "id": "nLZ6lpf_-TaT"
      },
      "source": [
        "9: Optional: Erstellen Sie Boxplots für die Daten."
      ]
    },
    {
      "cell_type": "code",
      "metadata": {
        "id": "FI4xwm-A-TaU"
      },
      "source": [
        "#ToDo"
      ],
      "execution_count": null,
      "outputs": []
    }
  ]
}